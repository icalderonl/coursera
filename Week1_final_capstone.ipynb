{
 "cells": [
  {
   "cell_type": "markdown",
   "metadata": {},
   "source": [
    "# Final project: Coffee Shops in SCL"
   ]
  },
  {
   "cell_type": "markdown",
   "metadata": {},
   "source": [
    "My final projecto is about Coffee shops in Santiago, Chile.\n",
    "\n",
    "The idea is to find out where are the coffees and how good they are, for this data about coffee will be obtained from Foursquare. Also, the data about the city will be obtained from Wikipedia and https://nominatim.openstreetmap.org "
   ]
  },
  {
   "cell_type": "markdown",
   "metadata": {},
   "source": [
    "From wikipedia the data obtained will be about Sector (location in the city, north, south, north-east, etc), Comunas (neighborhoods) and the population. With all of this, with nominatim the latitude and longitud from each Comuna will be obtained to form a dataframe of the city information."
   ]
  },
  {
   "cell_type": "markdown",
   "metadata": {},
   "source": [
    "With Foursquare data about Coffee shops on each comuna will be obtained in a dataframe."
   ]
  },
  {
   "cell_type": "markdown",
   "metadata": {},
   "source": [
    "## Problem"
   ]
  },
  {
   "cell_type": "markdown",
   "metadata": {},
   "source": [
    "The problem to discuss here is where will be better to install a new Coffee Shop in the city of Santiago de Chile, according to the concentration of other Coffee and the quality of it."
   ]
  },
  {
   "cell_type": "markdown",
   "metadata": {},
   "source": [
    "Coffee shops have been on the rise for the last years, and new places are opening all the time. So this will show where are these Coffee shops and if they are available in all the city or not."
   ]
  },
  {
   "cell_type": "markdown",
   "metadata": {},
   "source": [
    "## Metodology"
   ]
  },
  {
   "cell_type": "markdown",
   "metadata": {},
   "source": [
    "- First, with the data of the city, a map will be created to visualize the city and each Comuna"
   ]
  },
  {
   "cell_type": "markdown",
   "metadata": {},
   "source": [
    "- Then, with the data from foursquare will be checked, the words Coffee, Café or Cafetería must be in the categories cell. If not, that place will be dismissed"
   ]
  },
  {
   "cell_type": "markdown",
   "metadata": {},
   "source": [
    "- After, data about the rating of each place is added to the dataframe"
   ]
  },
  {
   "cell_type": "markdown",
   "metadata": {},
   "source": [
    "- Finally, data will be analized in its distribution geographically, the per capita number in each sector, and the average rating too."
   ]
  },
  {
   "cell_type": "markdown",
   "metadata": {},
   "source": [
    "### Note"
   ]
  },
  {
   "cell_type": "markdown",
   "metadata": {},
   "source": [
    "Due to the covid19 pandemic, data from foursquare might be affected (as Santiago is currently under lockdown for the last thow months) so analysis will be done with the data available, the same analysis might change after lockdown is lifted."
   ]
  }
 ],
 "metadata": {
  "kernelspec": {
   "display_name": "Python 3",
   "language": "python",
   "name": "python3"
  },
  "language_info": {
   "codemirror_mode": {
    "name": "ipython",
    "version": 3
   },
   "file_extension": ".py",
   "mimetype": "text/x-python",
   "name": "python",
   "nbconvert_exporter": "python",
   "pygments_lexer": "ipython3",
   "version": "3.7.6"
  }
 },
 "nbformat": 4,
 "nbformat_minor": 4
}
